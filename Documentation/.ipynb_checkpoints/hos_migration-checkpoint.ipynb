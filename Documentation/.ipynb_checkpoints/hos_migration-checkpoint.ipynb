{
 "cells": [
  {
   "cell_type": "markdown",
   "id": "efc29163-a7b0-4a03-a339-de7dd0fb7dd6",
   "metadata": {},
   "source": [
    "## Imports"
   ]
  },
  {
   "cell_type": "code",
   "execution_count": 2,
   "id": "affc4a88-15d4-4f6b-b40d-7aea20bd4ae5",
   "metadata": {},
   "outputs": [],
   "source": [
    "import pandas as pd\n",
    "import os"
   ]
  },
  {
   "cell_type": "markdown",
   "id": "27d7f823-a79e-4cf8-8aaf-5a2138ff875a",
   "metadata": {
    "jp-MarkdownHeadingCollapsed": true
   },
   "source": [
    "# I52 validation and file preparations"
   ]
  },
  {
   "cell_type": "markdown",
   "id": "c55e32f3-4c19-479e-8483-ec403969dbed",
   "metadata": {},
   "source": [
    "### Load files to create dataframes"
   ]
  },
  {
   "cell_type": "code",
   "execution_count": 12,
   "id": "40de2375-3c84-415e-acb8-ebac1ad21e0a",
   "metadata": {},
   "outputs": [
    {
     "name": "stderr",
     "output_type": "stream",
     "text": [
      "/tmp/ipykernel_14208/4037358911.py:3: DtypeWarning: Columns (8) have mixed types. Specify dtype option on import or set low_memory=False.\n",
      "  hos36_df = pd.read_csv(\"/home/josephjosue/Documents/HOS_MIGRATION/raw_data/I36_SPAttributeValueLevel_1_HOS_PROD.csv\", encoding='latin1')\n"
     ]
    }
   ],
   "source": [
    "rf52_df = pd.read_csv(\"/home/josephjosue/Documents/HOS_MIGRATION/raw_data/I52_StrategicPartAttributeValue_1_RF_PROD.csv\", encoding='latin1')\n",
    "rf51_df = pd.read_csv(\"/home/josephjosue/Documents/HOS_MIGRATION/raw_data/I51_OptionalServiceAttributeValue_1_RF_PROD.csv\", encoding='latin1')\n",
    "hos36_df = pd.read_csv(\"/home/josephjosue/Documents/HOS_MIGRATION/raw_data/I36_SPAttributeValueLevel_1_HOS_PROD.csv\", encoding='latin1')"
   ]
  },
  {
   "cell_type": "markdown",
   "id": "d4389d89-0537-426f-8736-a6bfc8a61c23",
   "metadata": {},
   "source": [
    "### filter data for respective countries"
   ]
  },
  {
   "cell_type": "code",
   "execution_count": 13,
   "id": "66047252-a191-4346-b87f-0acbbfbf6ef1",
   "metadata": {},
   "outputs": [],
   "source": [
    "countries_rf52_df = rf52_df[rf52_df[\"Country\"].isin([\"ES\", \"PT\", \"NL\", \"DK\", \"BE\", \"SE\", \"FI\", \"NO\"])].copy()\n",
    "countries_rf51_df = rf51_df[rf51_df[\"Country\"].isin([\"ES\", \"PT\", \"NL\", \"DK\", \"BE\", \"SE\", \"FI\", \"NO\"])].copy()\n",
    "countries_hos36_df = hos36_df[hos36_df[\"Country\"].isin([\"ES\", \"PT\", \"NL\", \"DK\", \"BE\", \"SE\", \"FI\", \"NO\"])].copy()"
   ]
  },
  {
   "cell_type": "markdown",
   "id": "b2d5cb7a-231b-4a27-b0f4-65cfe76e2ea9",
   "metadata": {},
   "source": [
    "### filter RF I51 for Helium, EasySwitch and Tubes data"
   ]
  },
  {
   "cell_type": "code",
   "execution_count": 14,
   "id": "75594a5b-2b2e-45ee-96ff-609dec592ca0",
   "metadata": {
    "collapsed": true,
    "jupyter": {
     "outputs_hidden": true
    }
   },
   "outputs": [],
   "source": [
    "rf51_os_df = countries_rf51_df[countries_rf51_df[\"Attribute Value Code\"].isin([\"HEL_15T_IN\", \"HEL_30T_IN\", \"HEL_ING_IN\", \"EASYSWITCH_IN\", \"UQCM_IN\"])].copy()"
   ]
  },
  {
   "cell_type": "markdown",
   "id": "6fe62957",
   "metadata": {},
   "source": [
    "### model I51 data to match I52 format"
   ]
  },
  {
   "cell_type": "code",
   "execution_count": 15,
   "id": "c2c02db4",
   "metadata": {},
   "outputs": [],
   "source": [
    "converted_rows = []\n",
    "\n",
    "for _, row in rf51_os_df.iterrows():\n",
    "    new_row = {\n",
    "        'Display Group Code': 'LI',  # All new rows get \"LI\" as specified\n",
    "        'Country': row['Country'],\n",
    "        'Attribute Value Code': row['Attribute Value Code'],\n",
    "        'Attribute Value Description': row['Attribute Value Description'],\n",
    "        'Attribute Value Price Type': 'Lookup',  # Default value based on i52 pattern\n",
    "        'Attribute Value FP': row['Attribute Value FP'],\n",
    "        'Attribute Value TP': row['Attribute Value TP'],\n",
    "        'Attribute Value LP': row['Attribute Value LP'],\n",
    "        'Attribute Value MMFP': row['Attribute Value MMFP'],\n",
    "        'Attribute Value MMTP': row['Attribute Value MMTP'],\n",
    "        'Attribute Value MMLP': row['Attribute Value MMLP'],\n",
    "        'Attribute Deactivated YN': row['Attribute Deactivated YN'],\n",
    "        'Customer Bank Value': row['Customer Bank Value'],\n",
    "        'RSM Type': row['RSM Type'],\n",
    "        'RSM Consumption': row['RSM Consumption'],\n",
    "        'Currency': row['Currency'],\n",
    "        'Local FP': row['Local FP'],\n",
    "        'Price Book Name': row['Price Book Name'],\n",
    "        'Server': row['Server'],\n",
    "        'Changed On': row['Changed On'],\n",
    "        'Changed By': row['Changed By']\n",
    "    }\n",
    "    converted_rows.append(new_row)\n",
    "\n",
    "# Convert to DataFrame\n",
    "converted_df = pd.DataFrame(converted_rows)\n"
   ]
  },
  {
   "cell_type": "markdown",
   "id": "1606e664",
   "metadata": {},
   "source": [
    "### combine with existing i52 data"
   ]
  },
  {
   "cell_type": "code",
   "execution_count": 16,
   "id": "491357a1",
   "metadata": {},
   "outputs": [],
   "source": [
    "combined_i52_df = pd.concat([countries_rf52_df, converted_df], ignore_index=True)"
   ]
  },
  {
   "cell_type": "markdown",
   "id": "209c5bf6-6326-4d51-a757-609e78e34d14",
   "metadata": {},
   "source": [
    "### create a lookup key value"
   ]
  },
  {
   "cell_type": "code",
   "execution_count": 18,
   "id": "f12e3a57-8a49-4b58-820c-af3571a9414f",
   "metadata": {},
   "outputs": [],
   "source": [
    "combined_i52_df[\"lookup_key\"] = combined_i52_df[\"Country\"].astype(str) + combined_i52_df[\"Attribute Value Code\"].astype(str)\n",
    "countries_hos36_df[\"lookup_key\"] = countries_hos36_df[\"Country\"].astype(str) + countries_hos36_df[\"Attribute Value Code\"].astype(str)"
   ]
  },
  {
   "cell_type": "markdown",
   "id": "f9fad0be",
   "metadata": {},
   "source": [
    "### merge I52 RF and I36 HOS to find matching values "
   ]
  },
  {
   "cell_type": "code",
   "execution_count": 19,
   "id": "de644dee",
   "metadata": {},
   "outputs": [],
   "source": [
    "i52_and_i36_merge_df = pd.merge(combined_i52_df, countries_hos36_df[[\"lookup_key\"]], on='lookup_key', how='inner')"
   ]
  },
  {
   "cell_type": "markdown",
   "id": "8e747162",
   "metadata": {},
   "source": [
    "### I52 file preparation RF to HOS"
   ]
  },
  {
   "cell_type": "code",
   "execution_count": 22,
   "id": "ec9785aa",
   "metadata": {},
   "outputs": [],
   "source": [
    "# Column containing country names\n",
    "country_column = \"Country\"\n",
    "\n",
    "# Prefix for the filename\n",
    "filename_prefix = \"I52_\"\n",
    "\n",
    "# Extract unique countries\n",
    "unique_countries = i52_and_i36_merge_df[country_column].unique()\n",
    "\n",
    "# Iterate through each country\n",
    "for country in unique_countries:\n",
    "    # Filter the data frame for the current country\n",
    "    country_df = i52_and_i36_merge_df[i52_and_i36_merge_df[country_column] == country]\n",
    "\n",
    "    #Drop the last 4 columns\n",
    "    country_df = country_df.iloc[:, :-5]\n",
    "    \n",
    "    # Define the filename using the specified syntax and path\n",
    "    filename = f\"/home/josephjosue/Documents/HOS_MIGRATION/Output/I52/{filename_prefix}{country}.xlsx\"\n",
    "    country_df.to_excel(filename, index=False)"
   ]
  },
  {
   "cell_type": "markdown",
   "id": "7fd1eeb6-c10b-4a72-b215-c9a650ef7d88",
   "metadata": {
    "jp-MarkdownHeadingCollapsed": true,
    "scrolled": true
   },
   "source": [
    "# I01 changes, validation and file preparations"
   ]
  },
  {
   "cell_type": "markdown",
   "id": "8625071b-caf0-4bcd-9c24-c22f8e8dc333",
   "metadata": {},
   "source": [
    "### load files to create dataframes"
   ]
  },
  {
   "cell_type": "code",
   "execution_count": 45,
   "id": "7cd94f33-79e2-456c-bc4f-d7ad783c072c",
   "metadata": {},
   "outputs": [],
   "source": [
    "rf01_df = pd.read_csv(\"C:/Users/320270203/OneDrive - Philips/Documents/HOS MIGRATION PROJECT/I01/I01_CountryMasterData_1_RF_PROD.csv\", encoding='latin1')\n",
    "hos01_df = pd.read_csv(\"C:/Users/320270203/OneDrive - Philips/Documents/HOS MIGRATION PROJECT/I01/I01_CountryMasterData_1_HOS_PROD.csv\", encoding='latin1')"
   ]
  },
  {
   "cell_type": "markdown",
   "id": "f4b55b00-2537-464e-94f8-9a0fc20da919",
   "metadata": {},
   "source": [
    "### filter data for respective countries"
   ]
  },
  {
   "cell_type": "code",
   "execution_count": 46,
   "id": "94fd7014-b71f-4059-bfc4-04c0545b3049",
   "metadata": {},
   "outputs": [],
   "source": [
    "countries_rf01_df = rf01_df[rf01_df[\"Country\"].isin([\"ES\", \"PT\", \"NL\", \"DK\", \"BE\", \"SE\", \"FI\", \"NO\"])].copy()\n",
    "countries_hos01_df = hos01_df[hos01_df[\"Country\"].isin([\"ES\", \"PT\", \"NL\", \"DK\", \"BE\", \"SE\", \"FI\", \"NO\"])].copy()"
   ]
  },
  {
   "cell_type": "markdown",
   "id": "f99e83ae-becf-41e3-93b4-6c702a09af2c",
   "metadata": {},
   "source": [
    "### getting changes applied from RF to HOS"
   ]
  },
  {
   "cell_type": "code",
   "execution_count": 47,
   "id": "95fc6851-a44f-46d8-a71b-34298e833d23",
   "metadata": {},
   "outputs": [
    {
     "name": "stderr",
     "output_type": "stream",
     "text": [
      "C:\\Users\\320270203\\AppData\\Local\\Temp\\ipykernel_13580\\2648751953.py:22: FutureWarning: The behavior of DataFrame concatenation with empty or all-NA entries is deprecated. In a future version, this will no longer exclude empty or all-NA columns when determining the result dtypes. To retain the old behavior, exclude the relevant entries before the concat operation.\n",
      "  changed_values_df = pd.concat([changed_values_df, changes], ignore_index=True)\n"
     ]
    }
   ],
   "source": [
    "#reset indices to match iteration\n",
    "countries_rf01_df = countries_rf01_df.reset_index(drop=True)\n",
    "countries_hos01_df = countries_hos01_df.reset_index(drop=True)\n",
    "\n",
    "#create a list with the columns to compare\n",
    "columns_to_compare = [\"h_cost_rate\", \"h_trav_CM\", \"h_trav_PM\", \"mat_hand\", \"LaborGM\", \"PartsGM\", \"TP_LP_UP\", \"FP_LP_UP\", \"NBV_LAT\", \"NBV_NPC\", \"NBV_UPLIFT\"]\n",
    "\n",
    "#create a new dataframe to show the compared data\n",
    "changed_values_df = pd.DataFrame(columns=[\"Row\", \"Country\", \"Column\", \"Old Value\", \"New Value\"])\n",
    "\n",
    "#iterate through each column to compare data from hos and rf and save found changes on changed_values_df\n",
    "for column in columns_to_compare:\n",
    "    differences = countries_hos01_df[column] != countries_rf01_df[column]\n",
    "    changes = pd.DataFrame({\n",
    "        'Row': countries_hos01_df.index[differences],\n",
    "        'Country': countries_rf01_df.loc[differences, \"Country\"],\n",
    "        'Column': column,\n",
    "        'Old Value': countries_hos01_df.loc[differences, column],\n",
    "        'New Value': countries_rf01_df.loc[differences, column]\n",
    "    })\n",
    "    if not changes.empty:\n",
    "        changed_values_df = pd.concat([changed_values_df, changes], ignore_index=True)\n",
    "        \n",
    "# Output the DataFrame to an Excel file\n",
    "output_file_path = \"C:/Users/320270203/OneDrive - Philips/Documents/HOS MIGRATION PROJECT/I01/Output/changed_data.xlsx\"\n",
    "changed_values_df.to_excel(output_file_path, index=False)"
   ]
  },
  {
   "cell_type": "markdown",
   "id": "026a5156-393f-48b8-954c-c5918f7fd839",
   "metadata": {},
   "source": [
    "### I01 file preparation RF to HOS"
   ]
  },
  {
   "cell_type": "code",
   "execution_count": 48,
   "id": "0b276dbd-5a39-4c90-b105-a40851bfe7ae",
   "metadata": {},
   "outputs": [],
   "source": [
    "# Column containing country names\n",
    "country_column = \"Country\"\n",
    "\n",
    "# Prefix for the filename\n",
    "filename_prefix = \"I01_\"\n",
    "\n",
    "# Extract unique countries\n",
    "unique_countries = countries_rf01_df[country_column].unique()\n",
    "\n",
    "# Iterate through each country\n",
    "for country in unique_countries:\n",
    "    # Filter the data frame for the current country\n",
    "    country_df = countries_rf01_df[countries_rf01_df[country_column] == country]\n",
    "\n",
    "    #Drop the last 4 columns\n",
    "    country_df = country_df.iloc[:, :-4]\n",
    "    \n",
    "    # Define the filename using the specified syntax and path\n",
    "    filename = f\"C:/Users/320270203/OneDrive - Philips/Documents/HOS MIGRATION PROJECT/I01/Output/{filename_prefix}{country}.xlsx\"\n",
    "    country_df.to_excel(filename, index=False)"
   ]
  },
  {
   "cell_type": "markdown",
   "id": "007ba2af-40a3-4283-b5f8-b967babc2eac",
   "metadata": {
    "jp-MarkdownHeadingCollapsed": true
   },
   "source": [
    "# I53 validation and file preparations"
   ]
  },
  {
   "cell_type": "markdown",
   "id": "aa256339-ee57-410a-b9d8-5063ef4cc617",
   "metadata": {},
   "source": [
    "### load files to create dataframes"
   ]
  },
  {
   "cell_type": "code",
   "execution_count": 28,
   "id": "6d2eff91-2193-4389-a783-45beb3a41261",
   "metadata": {},
   "outputs": [],
   "source": [
    "rf53_df = pd.read_csv(\"C:/Users/320270203/OneDrive - Philips/Documents/HOS MIGRATION PROJECT/I53/I53_MaintenanceServiceAttributeValue_1_RF_PROD.csv\", encoding='latin1')\n",
    "hos53_df = pd.read_csv(\"C:/Users/320270203/OneDrive - Philips/Documents/HOS MIGRATION PROJECT/I53/I53_MaintenanceServiceAttributeValue_1_HOS_PROD.csv\", encoding='latin1')\n",
    "hos35_df = pd.read_csv(\"C:/Users/320270203/OneDrive - Philips/Documents/HOS MIGRATION PROJECT/I53/I35_MSAttributeValueLevel_1_HOS_PROD.csv\", encoding='latin1')"
   ]
  },
  {
   "cell_type": "markdown",
   "id": "2860816b-1d14-4b81-a209-2c81a1be4061",
   "metadata": {},
   "source": [
    "### filter data for respective countries"
   ]
  },
  {
   "cell_type": "code",
   "execution_count": 29,
   "id": "8b094bd2-f375-44e0-9240-cd5dfa947e6f",
   "metadata": {},
   "outputs": [],
   "source": [
    "countries_rf53_df = rf53_df[rf53_df[\"Country\"].isin([\"ES\", \"PT\", \"NL\", \"DK\", \"BE\", \"SE\", \"FI\", \"NO\"])].copy()\n",
    "countries_hos53_df = hos53_df[hos53_df[\"Country\"].isin([\"ES\", \"PT\", \"NL\", \"DK\", \"BE\", \"SE\", \"FI\", \"NO\"])].copy()\n",
    "countries_hos35_df = hos35_df[hos35_df[\"Country\"].isin([\"ES\", \"PT\", \"NL\", \"DK\", \"BE\", \"SE\", \"FI\", \"NO\"])].copy()"
   ]
  },
  {
   "cell_type": "markdown",
   "id": "c6f7df26-322b-483e-8edd-13a00848321d",
   "metadata": {},
   "source": [
    "### create lookup key and merge files"
   ]
  },
  {
   "cell_type": "code",
   "execution_count": 33,
   "id": "a4dddfbf-effd-4685-bcf1-41f50b9f0ba7",
   "metadata": {},
   "outputs": [],
   "source": [
    "countries_rf53_df[\"lookup_key\"] = countries_rf53_df[\"Country\"].astype(str) + countries_rf53_df[\"Attribute Value Code\"].astype(str)\n",
    "countries_hos35_df[\"lookup_key\"] = countries_hos35_df[\"Country\"].astype(str) + countries_hos35_df[\"Attribute Value Code\"].astype(str)"
   ]
  },
  {
   "cell_type": "code",
   "execution_count": 41,
   "id": "df9f39b9-b929-4610-af1e-c901332dcc07",
   "metadata": {},
   "outputs": [],
   "source": [
    "df_output = pd.merge(countries_rf53_df, countries_hos35_df[[\"lookup_key\"]], on='lookup_key', how='inner')"
   ]
  },
  {
   "cell_type": "markdown",
   "id": "1ca86c95-077a-4e12-af0b-d3c19215bf6d",
   "metadata": {},
   "source": [
    "### I53 file preparation RF to HOS"
   ]
  },
  {
   "cell_type": "code",
   "execution_count": 49,
   "id": "bbe500af-9860-439d-9f05-4f4a2c5d6ba0",
   "metadata": {},
   "outputs": [],
   "source": [
    "# Column containing country names\n",
    "country_column = \"Country\"\n",
    "\n",
    "# Prefix for the filename\n",
    "filename_prefix = \"I53_\"\n",
    "\n",
    "# Extract unique countries\n",
    "unique_countries = df_output[country_column].unique()\n",
    "\n",
    "# Iterate through each country\n",
    "for country in unique_countries:\n",
    "    # Filter the data frame for the current country\n",
    "    country_df = df_output[df_output[country_column] == country]\n",
    "\n",
    "    #Drop the last 4 columns\n",
    "    country_df = country_df.iloc[:, :-5]\n",
    "    \n",
    "    # Define the filename using the specified syntax and path\n",
    "    filename = f\"C:/Users/320270203/OneDrive - Philips/Documents/HOS MIGRATION PROJECT/I53/Output/{filename_prefix}{country}.xlsx\"\n",
    "    country_df.to_excel(filename, index=False)"
   ]
  },
  {
   "cell_type": "markdown",
   "id": "f4fe2e3c-c988-4e90-a9f3-ce19fe060f2d",
   "metadata": {
    "jp-MarkdownHeadingCollapsed": true
   },
   "source": [
    "# I34 validation and file preparations"
   ]
  },
  {
   "cell_type": "markdown",
   "id": "213a3ed3-6e45-4e47-baa3-84cb86b4f06c",
   "metadata": {},
   "source": [
    "### load files to create dataframes"
   ]
  },
  {
   "cell_type": "code",
   "execution_count": 5,
   "id": "2a4185fe-9fbf-4359-b34e-e2641a69906d",
   "metadata": {},
   "outputs": [],
   "source": [
    "rf34_df = pd.read_csv(\"C:/Users/320270203/OneDrive - Philips/Documents/HOS MIGRATION PROJECT/I34/I34_ModalityData_1_RF_PROD.csv\", encoding='latin1')"
   ]
  },
  {
   "cell_type": "markdown",
   "id": "f098b059-2316-4522-9c13-4a9a83f4d9a9",
   "metadata": {},
   "source": [
    "### filter data for respective countries"
   ]
  },
  {
   "cell_type": "code",
   "execution_count": 7,
   "id": "1bdf1486-6e74-4254-9fb4-772ed8ae057c",
   "metadata": {},
   "outputs": [],
   "source": [
    "countries_rf34_df = rf34_df[rf34_df[\"Country\"].isin([\"ES\", \"PT\", \"NL\", \"DK\", \"BE\", \"SE\", \"FI\", \"NO\"])].copy()"
   ]
  },
  {
   "cell_type": "markdown",
   "id": "efc0676c-e36f-477d-be12-edc197df0cb7",
   "metadata": {},
   "source": [
    "### I34 file preparation RF to HOS"
   ]
  },
  {
   "cell_type": "code",
   "execution_count": 10,
   "id": "ba6c5585-a8be-4441-9e2a-88a9d3842355",
   "metadata": {},
   "outputs": [],
   "source": [
    "# Column containing country names\n",
    "country_column = \"Country\"\n",
    "\n",
    "# Prefix for the filename\n",
    "filename_prefix = \"I34_\"\n",
    "\n",
    "# Extract unique countries\n",
    "unique_countries = countries_rf34_df[country_column].unique()\n",
    "\n",
    "# Iterate through each country\n",
    "for country in unique_countries:\n",
    "    # Filter the data frame for the current country\n",
    "    country_df = countries_rf34_df[countries_rf34_df[country_column] == country]\n",
    "\n",
    "    #Drop the last 4 columns\n",
    "    country_df = country_df.iloc[:, :-4]\n",
    "    \n",
    "    # Define the filename using the specified syntax and path\n",
    "    filename = f\"C:/Users/320270203/OneDrive - Philips/Documents/HOS MIGRATION PROJECT/I34/Output/{filename_prefix}{country}.xlsx\"\n",
    "    country_df.to_excel(filename, index=False)"
   ]
  },
  {
   "cell_type": "markdown",
   "id": "91badd33-173b-4823-accd-a846c9ee036b",
   "metadata": {},
   "source": [
    "# I38 validation and file preparations"
   ]
  },
  {
   "cell_type": "markdown",
   "id": "13545637-5143-4c43-a873-30ebb950e1dd",
   "metadata": {},
   "source": [
    "### load files to create dataframes"
   ]
  },
  {
   "cell_type": "code",
   "execution_count": 3,
   "id": "bd065ae8-731a-485a-b382-7e1d1208359b",
   "metadata": {},
   "outputs": [],
   "source": [
    "rf38_df = pd.read_csv(\"/home/josephjosue/Documents/HOS_MIGRATION/raw_data/I38_ModalityBasePrice_1_RF_PROD.csv\", encoding='latin1')\n",
    "hos38_df = pd.read_csv(\"/home/josephjosue/Documents/HOS_MIGRATION/raw_data/I38_ModalityBasePrice_1_HOS_PROD.csv\", encoding='latin1')\n",
    "hos37_df = pd.read_csv(\"/home/josephjosue/Documents/HOS_MIGRATION/raw_data/I37_OSAttributeValueLevel_1_HOS_PROD.csv\", encoding='latin1')"
   ]
  },
  {
   "cell_type": "markdown",
   "id": "107ef89d-39fe-4a3a-8d37-a56e639dca8d",
   "metadata": {},
   "source": [
    "### filter data for respective countries"
   ]
  },
  {
   "cell_type": "code",
   "execution_count": 4,
   "id": "16caf0c8-c3ab-4941-ad62-68821c47bf9f",
   "metadata": {},
   "outputs": [],
   "source": [
    "countries_rf38_df = rf38_df[rf38_df[\"Country\"].isin([\"ES\", \"PT\", \"NL\", \"DK\", \"BE\", \"SE\", \"FI\", \"NO\"])].copy()\n",
    "countries_hos38_df = hos38_df[hos38_df[\"Country\"].isin([\"ES\", \"PT\", \"NL\", \"DK\", \"BE\", \"SE\", \"FI\", \"NO\"])].copy()\n",
    "countries_hos37_df = hos37_df[hos37_df[\"Country\"].isin([\"ES\", \"PT\", \"NL\", \"DK\", \"BE\", \"SE\", \"FI\", \"NO\"])].copy()"
   ]
  },
  {
   "cell_type": "markdown",
   "id": "911371bf-d93c-447f-894e-06a8eb4a09fe",
   "metadata": {},
   "source": [
    "### create lookup key and merge I38 files"
   ]
  },
  {
   "cell_type": "code",
   "execution_count": 10,
   "id": "e7074f0e-5610-49d8-a1dc-34e8115eeb5f",
   "metadata": {},
   "outputs": [],
   "source": [
    "countries_rf38_df[\"lookup_key\"] = countries_rf38_df[\"Country\"].astype(str) + countries_rf38_df[\"Attribute Value Code\"].astype(str)\n",
    "countries_hos38_df[\"lookup_key\"] = countries_hos38_df[\"Country\"].astype(str) + countries_hos38_df[\"Attribute Value Code\"].astype(str)\n",
    "countries_hos37_df[\"lookup_key\"] = countries_hos37_df[\"Country\"].astype(str) + countries_hos37_df[\"Attribute Value Code\"].astype(str)"
   ]
  },
  {
   "cell_type": "code",
   "execution_count": 15,
   "id": "ed209738-94b7-4419-8d62-9a2a78683a8a",
   "metadata": {},
   "outputs": [],
   "source": [
    "i38_merge_df = pd.merge(countries_rf38_df, countries_hos38_df[[\"lookup_key\"]], on='lookup_key', how='inner')"
   ]
  },
  {
   "cell_type": "markdown",
   "id": "a85cbbc5-82dd-4c69-8010-bbd7fc820031",
   "metadata": {},
   "source": [
    "### merge I38 and I37 files to find matching values"
   ]
  },
  {
   "cell_type": "code",
   "execution_count": null,
   "id": "4adf5f71-0014-45b7-8741-2083f2e02527",
   "metadata": {},
   "outputs": [],
   "source": [
    "i38_and_i37_merge_df = pd.merge(i38_merge_df, countries_hos37_df[[\"lookup_key\"]], on='lookup_key', how='inner')"
   ]
  },
  {
   "cell_type": "markdown",
   "id": "d0a4cf6b-38bd-41fe-a07e-333bc5a6a111",
   "metadata": {},
   "source": [
    "### I38 file preparation RF to HOS"
   ]
  },
  {
   "cell_type": "code",
   "execution_count": 19,
   "id": "e1d72ddc-32f7-474b-bf27-b8d771e508a9",
   "metadata": {},
   "outputs": [],
   "source": [
    "# Column containing country names\n",
    "country_column = \"Country\"\n",
    "\n",
    "# Prefix for the filename\n",
    "filename_prefix = \"I38_\"\n",
    "\n",
    "# Extract unique countries\n",
    "unique_countries = i38_and_i37_merge_df[country_column].unique()\n",
    "\n",
    "# Iterate through each country\n",
    "for country in unique_countries:\n",
    "    # Filter the data frame for the current country\n",
    "    country_df = i38_and_i37_merge_df[i38_and_i37_merge_df[country_column] == country]\n",
    "\n",
    "    #Drop the last 4 columns\n",
    "    country_df = country_df.iloc[:, :-5]\n",
    "    \n",
    "    # Define the filename using the specified syntax and path\n",
    "    filename = f\"/home/josephjosue/Documents/HOS_MIGRATION/Output/I38/{filename_prefix}{country}.xlsx\"\n",
    "    country_df.to_excel(filename, index=False)"
   ]
  },
  {
   "cell_type": "markdown",
   "id": "8ead6162",
   "metadata": {},
   "source": [
    "# I51 validation and file preparations"
   ]
  },
  {
   "cell_type": "markdown",
   "id": "85e0da5f",
   "metadata": {},
   "source": [
    "### load files to create dataframes"
   ]
  },
  {
   "cell_type": "code",
   "execution_count": 28,
   "id": "129b0885",
   "metadata": {},
   "outputs": [],
   "source": [
    "rf51_df = pd.read_csv(\"/home/josephjosue/Documents/HOS_MIGRATION/raw_data/I51_OptionalServiceAttributeValue_1_RF_PROD.csv\", encoding='latin1')\n",
    "hos37_df = pd.read_csv(\"/home/josephjosue/Documents/HOS_MIGRATION/raw_data/I37_OSAttributeValueLevel_1_HOS_PROD.csv\", encoding='latin1')"
   ]
  },
  {
   "cell_type": "markdown",
   "id": "192b7d70",
   "metadata": {},
   "source": [
    "### filter data for respective countries"
   ]
  },
  {
   "cell_type": "code",
   "execution_count": 29,
   "id": "a8fd9291",
   "metadata": {},
   "outputs": [],
   "source": [
    "countries_rf51_df = rf51_df[rf51_df[\"Country\"].isin([\"ES\", \"PT\", \"NL\", \"DK\", \"BE\", \"SE\", \"FI\", \"NO\"])].copy()\n",
    "countries_hos37_df = hos37_df[hos37_df[\"Country\"].isin([\"ES\", \"PT\", \"NL\", \"DK\", \"BE\", \"SE\", \"FI\", \"NO\"])].copy()"
   ]
  },
  {
   "cell_type": "markdown",
   "id": "7b786654",
   "metadata": {},
   "source": [
    "### remove Helium, EasySwitch and Tubes data from I51 RF file"
   ]
  },
  {
   "cell_type": "code",
   "execution_count": 30,
   "id": "277e89a3",
   "metadata": {},
   "outputs": [],
   "source": [
    "#list of attribute value codes to remove\n",
    "attributes_to_remove = [\"HEL_15T_IN\", \"HEL_30T_IN\", \"HEL_ING_IN\", \"EASYSWITCH_IN\", \"UQCM_IN\"]\n",
    "\n",
    "#delete attributes from dataframe\n",
    "i51_cleaned_df = countries_rf51_df[~countries_rf51_df[\"Attribute Value Code\"].isin(attributes_to_remove)].copy()"
   ]
  },
  {
   "cell_type": "markdown",
   "id": "628fa60d",
   "metadata": {},
   "source": [
    "### create lookup key value"
   ]
  },
  {
   "cell_type": "code",
   "execution_count": 32,
   "id": "dc195b1a",
   "metadata": {},
   "outputs": [],
   "source": [
    "i51_cleaned_df[\"lookup_key\"] = i51_cleaned_df[\"Country\"].astype(str) + i51_cleaned_df[\"Attribute Value Code\"].astype(str)\n",
    "countries_hos37_df[\"lookup_key\"] = countries_hos37_df[\"Country\"].astype(str) + countries_hos37_df[\"Attribute Value Code\"].astype(str)"
   ]
  },
  {
   "cell_type": "markdown",
   "id": "dd82d950",
   "metadata": {},
   "source": [
    "### merge I51 RF and I37 HOS files to find matching values"
   ]
  },
  {
   "cell_type": "code",
   "execution_count": 33,
   "id": "fed88a10",
   "metadata": {},
   "outputs": [],
   "source": [
    "i51_and_i37_merge_df = pd.merge(i51_cleaned_df, countries_hos37_df[[\"lookup_key\"]], on='lookup_key', how='inner')"
   ]
  },
  {
   "cell_type": "markdown",
   "id": "fe9859f3",
   "metadata": {},
   "source": [
    "### I51 file preparation RF to HOS"
   ]
  },
  {
   "cell_type": "code",
   "execution_count": 35,
   "id": "e88cad1c",
   "metadata": {},
   "outputs": [],
   "source": [
    "# Column containing country names\n",
    "country_column = \"Country\"\n",
    "\n",
    "# Prefix for the filename\n",
    "filename_prefix = \"I51_\"\n",
    "\n",
    "# Extract unique countries\n",
    "unique_countries = i51_and_i37_merge_df[country_column].unique()\n",
    "\n",
    "# Iterate through each country\n",
    "for country in unique_countries:\n",
    "    # Filter the data frame for the current country\n",
    "    country_df = i51_and_i37_merge_df[i51_and_i37_merge_df[country_column] == country]\n",
    "\n",
    "    #Drop the last 4 columns\n",
    "    country_df = country_df.iloc[:, :-5]\n",
    "    \n",
    "    # Define the filename using the specified syntax and path\n",
    "    filename = f\"/home/josephjosue/Documents/HOS_MIGRATION/Output/I51/{filename_prefix}{country}.xlsx\"\n",
    "    country_df.to_excel(filename, index=False)"
   ]
  },
  {
   "cell_type": "code",
   "execution_count": null,
   "id": "69045f6c",
   "metadata": {},
   "outputs": [],
   "source": []
  }
 ],
 "metadata": {
  "kernelspec": {
   "display_name": "pyda-py311",
   "language": "python",
   "name": "python3"
  },
  "language_info": {
   "codemirror_mode": {
    "name": "ipython",
    "version": 3
   },
   "file_extension": ".py",
   "mimetype": "text/x-python",
   "name": "python",
   "nbconvert_exporter": "python",
   "pygments_lexer": "ipython3",
   "version": "3.11.13"
  }
 },
 "nbformat": 4,
 "nbformat_minor": 5
}
